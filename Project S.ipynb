{
 "cells": [
  {
   "cell_type": "markdown",
   "metadata": {},
   "source": [
    "## Salaries by Region and College Type Data Set\n",
    "\n",
    "### Part 1 - Motivating question: What is the purpose of the experiement?\n",
    "\n",
    "We want to explore this data set and find out the if there is a huge difference in salary by program between the different universities and colleges throughout the United States of America. \n",
    "\n",
    "<b>By each school type, does being in a different region of United States of America affect your salary at graduation and mid-career? By how much?</b>\n",
    "\n"
   ]
  },
  {
   "cell_type": "code",
   "execution_count": 194,
   "metadata": {},
   "outputs": [],
   "source": [
    "import numpy as np\n",
    "import pandas as pd\n",
    "import seaborn as sns\n",
    "import matplotlib.pyplot as plt\n",
    "import seaborn as sns\n",
    "import thinkstats2\n",
    "import thinkplot\n",
    "from sklearn.linear_model import LogisticRegression\n",
    "from sklearn.metrics import accuracy_score, f1_score, mean_squared_error, confusion_matrix\n",
    "from sklearn.metrics import accuracy_score, f1_score, log_loss, confusion_matrix, precision_score, recall_score\n",
    "from sklearn.model_selection import train_test_split\n",
    "import statsmodels.formula.api as sm\n",
    "from sklearn.model_selection import train_test_split\n",
    "from sklearn.preprocessing import MinMaxScaler\n",
    "from sklearn.preprocessing import StandardScaler\n",
    "from sklearn.preprocessing import binarize\n",
    "import math"
   ]
  },
  {
   "cell_type": "code",
   "execution_count": 195,
   "metadata": {},
   "outputs": [
    {
     "data": {
      "text/html": [
       "<div>\n",
       "<style scoped>\n",
       "    .dataframe tbody tr th:only-of-type {\n",
       "        vertical-align: middle;\n",
       "    }\n",
       "\n",
       "    .dataframe tbody tr th {\n",
       "        vertical-align: top;\n",
       "    }\n",
       "\n",
       "    .dataframe thead th {\n",
       "        text-align: right;\n",
       "    }\n",
       "</style>\n",
       "<table border=\"1\" class=\"dataframe\">\n",
       "  <thead>\n",
       "    <tr style=\"text-align: right;\">\n",
       "      <th></th>\n",
       "      <th>School Name</th>\n",
       "      <th>Region</th>\n",
       "      <th>Starting Median Salary</th>\n",
       "      <th>Mid-Career Median Salary</th>\n",
       "      <th>Mid-Career 10th Percentile Salary</th>\n",
       "      <th>Mid-Career 25th Percentile Salary</th>\n",
       "      <th>Mid-Career 75th Percentile Salary</th>\n",
       "      <th>Mid-Career 90th Percentile Salary</th>\n",
       "    </tr>\n",
       "  </thead>\n",
       "  <tbody>\n",
       "    <tr>\n",
       "      <th>0</th>\n",
       "      <td>Stanford University</td>\n",
       "      <td>California</td>\n",
       "      <td>$70,400.00</td>\n",
       "      <td>$129,000.00</td>\n",
       "      <td>$68,400.00</td>\n",
       "      <td>$93,100.00</td>\n",
       "      <td>$184,000.00</td>\n",
       "      <td>$257,000.00</td>\n",
       "    </tr>\n",
       "    <tr>\n",
       "      <th>1</th>\n",
       "      <td>California Institute of Technology (CIT)</td>\n",
       "      <td>California</td>\n",
       "      <td>$75,500.00</td>\n",
       "      <td>$123,000.00</td>\n",
       "      <td>NaN</td>\n",
       "      <td>$104,000.00</td>\n",
       "      <td>$161,000.00</td>\n",
       "      <td>NaN</td>\n",
       "    </tr>\n",
       "    <tr>\n",
       "      <th>2</th>\n",
       "      <td>Harvey Mudd College</td>\n",
       "      <td>California</td>\n",
       "      <td>$71,800.00</td>\n",
       "      <td>$122,000.00</td>\n",
       "      <td>NaN</td>\n",
       "      <td>$96,000.00</td>\n",
       "      <td>$180,000.00</td>\n",
       "      <td>NaN</td>\n",
       "    </tr>\n",
       "    <tr>\n",
       "      <th>3</th>\n",
       "      <td>University of California, Berkeley</td>\n",
       "      <td>California</td>\n",
       "      <td>$59,900.00</td>\n",
       "      <td>$112,000.00</td>\n",
       "      <td>$59,500.00</td>\n",
       "      <td>$81,000.00</td>\n",
       "      <td>$149,000.00</td>\n",
       "      <td>$201,000.00</td>\n",
       "    </tr>\n",
       "    <tr>\n",
       "      <th>4</th>\n",
       "      <td>Occidental College</td>\n",
       "      <td>California</td>\n",
       "      <td>$51,900.00</td>\n",
       "      <td>$105,000.00</td>\n",
       "      <td>NaN</td>\n",
       "      <td>$54,800.00</td>\n",
       "      <td>$157,000.00</td>\n",
       "      <td>NaN</td>\n",
       "    </tr>\n",
       "  </tbody>\n",
       "</table>\n",
       "</div>"
      ],
      "text/plain": [
       "                                School Name      Region  \\\n",
       "0                       Stanford University  California   \n",
       "1  California Institute of Technology (CIT)  California   \n",
       "2                       Harvey Mudd College  California   \n",
       "3        University of California, Berkeley  California   \n",
       "4                        Occidental College  California   \n",
       "\n",
       "  Starting Median Salary Mid-Career Median Salary  \\\n",
       "0             $70,400.00              $129,000.00   \n",
       "1             $75,500.00              $123,000.00   \n",
       "2             $71,800.00              $122,000.00   \n",
       "3             $59,900.00              $112,000.00   \n",
       "4             $51,900.00              $105,000.00   \n",
       "\n",
       "  Mid-Career 10th Percentile Salary Mid-Career 25th Percentile Salary  \\\n",
       "0                        $68,400.00                        $93,100.00   \n",
       "1                               NaN                       $104,000.00   \n",
       "2                               NaN                        $96,000.00   \n",
       "3                        $59,500.00                        $81,000.00   \n",
       "4                               NaN                        $54,800.00   \n",
       "\n",
       "  Mid-Career 75th Percentile Salary Mid-Career 90th Percentile Salary  \n",
       "0                       $184,000.00                       $257,000.00  \n",
       "1                       $161,000.00                               NaN  \n",
       "2                       $180,000.00                               NaN  \n",
       "3                       $149,000.00                       $201,000.00  \n",
       "4                       $157,000.00                               NaN  "
      ]
     },
     "execution_count": 195,
     "metadata": {},
     "output_type": "execute_result"
    }
   ],
   "source": [
    "# Getting the the first data set of salaries by region\n",
    "df = pd.read_csv(\"salaries-by-region.csv\")\n",
    "df.head()"
   ]
  },
  {
   "cell_type": "code",
   "execution_count": 196,
   "metadata": {},
   "outputs": [
    {
     "data": {
      "text/html": [
       "<div>\n",
       "<style scoped>\n",
       "    .dataframe tbody tr th:only-of-type {\n",
       "        vertical-align: middle;\n",
       "    }\n",
       "\n",
       "    .dataframe tbody tr th {\n",
       "        vertical-align: top;\n",
       "    }\n",
       "\n",
       "    .dataframe thead th {\n",
       "        text-align: right;\n",
       "    }\n",
       "</style>\n",
       "<table border=\"1\" class=\"dataframe\">\n",
       "  <thead>\n",
       "    <tr style=\"text-align: right;\">\n",
       "      <th></th>\n",
       "      <th>School Name</th>\n",
       "      <th>School Type</th>\n",
       "      <th>Starting Median Salary</th>\n",
       "      <th>Mid-Career Median Salary</th>\n",
       "      <th>Mid-Career 10th Percentile Salary</th>\n",
       "      <th>Mid-Career 25th Percentile Salary</th>\n",
       "      <th>Mid-Career 75th Percentile Salary</th>\n",
       "      <th>Mid-Career 90th Percentile Salary</th>\n",
       "    </tr>\n",
       "  </thead>\n",
       "  <tbody>\n",
       "    <tr>\n",
       "      <th>0</th>\n",
       "      <td>Massachusetts Institute of Technology (MIT)</td>\n",
       "      <td>Engineering</td>\n",
       "      <td>$72,200.00</td>\n",
       "      <td>$126,000.00</td>\n",
       "      <td>$76,800.00</td>\n",
       "      <td>$99,200.00</td>\n",
       "      <td>$168,000.00</td>\n",
       "      <td>$220,000.00</td>\n",
       "    </tr>\n",
       "    <tr>\n",
       "      <th>1</th>\n",
       "      <td>California Institute of Technology (CIT)</td>\n",
       "      <td>Engineering</td>\n",
       "      <td>$75,500.00</td>\n",
       "      <td>$123,000.00</td>\n",
       "      <td>NaN</td>\n",
       "      <td>$104,000.00</td>\n",
       "      <td>$161,000.00</td>\n",
       "      <td>NaN</td>\n",
       "    </tr>\n",
       "    <tr>\n",
       "      <th>2</th>\n",
       "      <td>Harvey Mudd College</td>\n",
       "      <td>Engineering</td>\n",
       "      <td>$71,800.00</td>\n",
       "      <td>$122,000.00</td>\n",
       "      <td>NaN</td>\n",
       "      <td>$96,000.00</td>\n",
       "      <td>$180,000.00</td>\n",
       "      <td>NaN</td>\n",
       "    </tr>\n",
       "    <tr>\n",
       "      <th>3</th>\n",
       "      <td>Polytechnic University of New York, Brooklyn</td>\n",
       "      <td>Engineering</td>\n",
       "      <td>$62,400.00</td>\n",
       "      <td>$114,000.00</td>\n",
       "      <td>$66,800.00</td>\n",
       "      <td>$94,300.00</td>\n",
       "      <td>$143,000.00</td>\n",
       "      <td>$190,000.00</td>\n",
       "    </tr>\n",
       "    <tr>\n",
       "      <th>4</th>\n",
       "      <td>Cooper Union</td>\n",
       "      <td>Engineering</td>\n",
       "      <td>$62,200.00</td>\n",
       "      <td>$114,000.00</td>\n",
       "      <td>NaN</td>\n",
       "      <td>$80,200.00</td>\n",
       "      <td>$142,000.00</td>\n",
       "      <td>NaN</td>\n",
       "    </tr>\n",
       "  </tbody>\n",
       "</table>\n",
       "</div>"
      ],
      "text/plain": [
       "                                    School Name  School Type  \\\n",
       "0   Massachusetts Institute of Technology (MIT)  Engineering   \n",
       "1      California Institute of Technology (CIT)  Engineering   \n",
       "2                           Harvey Mudd College  Engineering   \n",
       "3  Polytechnic University of New York, Brooklyn  Engineering   \n",
       "4                                  Cooper Union  Engineering   \n",
       "\n",
       "  Starting Median Salary Mid-Career Median Salary  \\\n",
       "0             $72,200.00              $126,000.00   \n",
       "1             $75,500.00              $123,000.00   \n",
       "2             $71,800.00              $122,000.00   \n",
       "3             $62,400.00              $114,000.00   \n",
       "4             $62,200.00              $114,000.00   \n",
       "\n",
       "  Mid-Career 10th Percentile Salary Mid-Career 25th Percentile Salary  \\\n",
       "0                        $76,800.00                        $99,200.00   \n",
       "1                               NaN                       $104,000.00   \n",
       "2                               NaN                        $96,000.00   \n",
       "3                        $66,800.00                        $94,300.00   \n",
       "4                               NaN                        $80,200.00   \n",
       "\n",
       "  Mid-Career 75th Percentile Salary Mid-Career 90th Percentile Salary  \n",
       "0                       $168,000.00                       $220,000.00  \n",
       "1                       $161,000.00                               NaN  \n",
       "2                       $180,000.00                               NaN  \n",
       "3                       $143,000.00                       $190,000.00  \n",
       "4                       $142,000.00                               NaN  "
      ]
     },
     "execution_count": 196,
     "metadata": {},
     "output_type": "execute_result"
    }
   ],
   "source": [
    "# Getting the the second data set of salaries by college type\n",
    "df1=pd.read_csv('salaries-by-college-type.csv')\n",
    "df1.head()"
   ]
  },
  {
   "cell_type": "code",
   "execution_count": 197,
   "metadata": {},
   "outputs": [
    {
     "data": {
      "text/plain": [
       "School Name                           0\n",
       "Region                                0\n",
       "Starting Median Salary                0\n",
       "Mid-Career Median Salary              0\n",
       "Mid-Career 25th Percentile Salary     0\n",
       "Mid-Career 75th Percentile Salary     0\n",
       "Mid-Career 10th Percentile Salary    47\n",
       "Mid-Career 90th Percentile Salary    47\n",
       "dtype: int64"
      ]
     },
     "execution_count": 197,
     "metadata": {},
     "output_type": "execute_result"
    }
   ],
   "source": [
    "# get sum of null values\n",
    "df.isnull().sum().sort_values()"
   ]
  },
  {
   "cell_type": "code",
   "execution_count": 198,
   "metadata": {},
   "outputs": [
    {
     "data": {
      "text/plain": [
       "School Name                           0\n",
       "School Type                           0\n",
       "Starting Median Salary                0\n",
       "Mid-Career Median Salary              0\n",
       "Mid-Career 25th Percentile Salary     0\n",
       "Mid-Career 75th Percentile Salary     0\n",
       "Mid-Career 10th Percentile Salary    38\n",
       "Mid-Career 90th Percentile Salary    38\n",
       "dtype: int64"
      ]
     },
     "execution_count": 198,
     "metadata": {},
     "output_type": "execute_result"
    }
   ],
   "source": [
    "# get sum of null values\n",
    "df1.isnull().sum().sort_values()"
   ]
  },
  {
   "cell_type": "markdown",
   "metadata": {},
   "source": [
    "Checking to see if there is any null values within our data set. If there is, drop the column or fill/remove the null values."
   ]
  },
  {
   "cell_type": "code",
   "execution_count": 199,
   "metadata": {},
   "outputs": [
    {
     "data": {
      "text/html": [
       "<div>\n",
       "<style scoped>\n",
       "    .dataframe tbody tr th:only-of-type {\n",
       "        vertical-align: middle;\n",
       "    }\n",
       "\n",
       "    .dataframe tbody tr th {\n",
       "        vertical-align: top;\n",
       "    }\n",
       "\n",
       "    .dataframe thead th {\n",
       "        text-align: right;\n",
       "    }\n",
       "</style>\n",
       "<table border=\"1\" class=\"dataframe\">\n",
       "  <thead>\n",
       "    <tr style=\"text-align: right;\">\n",
       "      <th></th>\n",
       "      <th>School Name</th>\n",
       "      <th>Region</th>\n",
       "      <th>Starting Median Salary</th>\n",
       "      <th>Mid-Career Median Salary</th>\n",
       "      <th>School Type</th>\n",
       "    </tr>\n",
       "  </thead>\n",
       "  <tbody>\n",
       "    <tr>\n",
       "      <th>0</th>\n",
       "      <td>California Institute of Technology (CIT)</td>\n",
       "      <td>California</td>\n",
       "      <td>$75,500.00</td>\n",
       "      <td>$123,000.00</td>\n",
       "      <td>Engineering</td>\n",
       "    </tr>\n",
       "    <tr>\n",
       "      <th>1</th>\n",
       "      <td>Harvey Mudd College</td>\n",
       "      <td>California</td>\n",
       "      <td>$71,800.00</td>\n",
       "      <td>$122,000.00</td>\n",
       "      <td>Engineering</td>\n",
       "    </tr>\n",
       "    <tr>\n",
       "      <th>2</th>\n",
       "      <td>University of California, Berkeley</td>\n",
       "      <td>California</td>\n",
       "      <td>$59,900.00</td>\n",
       "      <td>$112,000.00</td>\n",
       "      <td>State</td>\n",
       "    </tr>\n",
       "    <tr>\n",
       "      <th>3</th>\n",
       "      <td>Occidental College</td>\n",
       "      <td>California</td>\n",
       "      <td>$51,900.00</td>\n",
       "      <td>$105,000.00</td>\n",
       "      <td>Liberal Arts</td>\n",
       "    </tr>\n",
       "    <tr>\n",
       "      <th>4</th>\n",
       "      <td>Cal Poly San Luis Obispo</td>\n",
       "      <td>California</td>\n",
       "      <td>$57,200.00</td>\n",
       "      <td>$101,000.00</td>\n",
       "      <td>State</td>\n",
       "    </tr>\n",
       "  </tbody>\n",
       "</table>\n",
       "</div>"
      ],
      "text/plain": [
       "                                School Name      Region  \\\n",
       "0  California Institute of Technology (CIT)  California   \n",
       "1                       Harvey Mudd College  California   \n",
       "2        University of California, Berkeley  California   \n",
       "3                        Occidental College  California   \n",
       "4                  Cal Poly San Luis Obispo  California   \n",
       "\n",
       "  Starting Median Salary Mid-Career Median Salary   School Type  \n",
       "0             $75,500.00              $123,000.00   Engineering  \n",
       "1             $71,800.00              $122,000.00   Engineering  \n",
       "2             $59,900.00              $112,000.00         State  \n",
       "3             $51,900.00              $105,000.00  Liberal Arts  \n",
       "4             $57,200.00              $101,000.00         State  "
      ]
     },
     "execution_count": 199,
     "metadata": {},
     "output_type": "execute_result"
    }
   ],
   "source": [
    "df_1=df[['School Name','Region','Starting Median Salary','Mid-Career Median Salary']]\n",
    "df_2=df1[['School Name','School Type']]\n",
    "df_3=pd.merge(df_1,df_2)\n",
    "df_3.head()"
   ]
  },
  {
   "cell_type": "markdown",
   "metadata": {},
   "source": [
    "Merging these two data sets and dropping the other columns such as Mid-Career \"#th\" Percentile Salary as the columns aren't relevent for what we are predicting and some of these columns have null values"
   ]
  },
  {
   "cell_type": "markdown",
   "metadata": {},
   "source": [
    "### Part 2 - Methodology: How did you implement the experiment?\n",
    "\n",
    "First by loading and combinding data sets, changing column types, filtering out columns and outliers, and exploring the data. We decided with the different classes we have with that data set, we are doing a classification and regression model for this project."
   ]
  },
  {
   "cell_type": "code",
   "execution_count": 200,
   "metadata": {},
   "outputs": [
    {
     "name": "stdout",
     "output_type": "stream",
     "text": [
      "<class 'pandas.core.frame.DataFrame'>\n",
      "Int64Index: 268 entries, 0 to 267\n",
      "Data columns (total 5 columns):\n",
      " #   Column                    Non-Null Count  Dtype \n",
      "---  ------                    --------------  ----- \n",
      " 0   School Name               268 non-null    object\n",
      " 1   Region                    268 non-null    object\n",
      " 2   Starting Median Salary    268 non-null    object\n",
      " 3   Mid-Career Median Salary  268 non-null    object\n",
      " 4   School Type               268 non-null    object\n",
      "dtypes: object(5)\n",
      "memory usage: 12.6+ KB\n"
     ]
    }
   ],
   "source": [
    "df_3.info()"
   ]
  },
  {
   "attachments": {},
   "cell_type": "markdown",
   "metadata": {},
   "source": [
    "From above it looks like that all the variables are object in our new data set."
   ]
  },
  {
   "cell_type": "code",
   "execution_count": 201,
   "metadata": {},
   "outputs": [
    {
     "name": "stdout",
     "output_type": "stream",
     "text": [
      "<class 'pandas.core.frame.DataFrame'>\n",
      "Int64Index: 268 entries, 0 to 267\n",
      "Data columns (total 5 columns):\n",
      " #   Column                    Non-Null Count  Dtype   \n",
      "---  ------                    --------------  -----   \n",
      " 0   School Name               268 non-null    object  \n",
      " 1   Region                    268 non-null    category\n",
      " 2   Starting Median Salary    268 non-null    float64 \n",
      " 3   Mid-Career Median Salary  268 non-null    float64 \n",
      " 4   School Type               268 non-null    category\n",
      "dtypes: category(2), float64(2), object(1)\n",
      "memory usage: 9.3+ KB\n"
     ]
    }
   ],
   "source": [
    "# Changing columns that were miscategorized as an object and changing it to the appropriate type\n",
    "df_3['Region']=df_3['Region'].astype('category')\n",
    "df_3['School Type']=df_3['School Type'].astype('category')\n",
    "df_3[df_3.columns[2:4]]=df_3[df_3.columns[2:4]].replace('[\\$,]', '',regex=True).astype(float)\n",
    "df_3.info()"
   ]
  },
  {
   "cell_type": "code",
   "execution_count": 202,
   "metadata": {},
   "outputs": [
    {
     "data": {
      "text/plain": [
       "School Name                 0\n",
       "Region                      0\n",
       "Starting Median Salary      0\n",
       "Mid-Career Median Salary    0\n",
       "School Type                 0\n",
       "dtype: int64"
      ]
     },
     "execution_count": 202,
     "metadata": {},
     "output_type": "execute_result"
    }
   ],
   "source": [
    "# Checking to see if there is any null values within our data set. If there is, drop the column or fill/remove the null values.\n",
    "df_3.isnull().sum().sort_values()"
   ]
  },
  {
   "cell_type": "markdown",
   "metadata": {},
   "source": [
    "<p>If there are missing values, we would remove them with dropna</p>\n",
    "<p>df_3=df_3.dropna()</p>\n",
    "<p>df_3.isna().sum()</p>"
   ]
  },
  {
   "cell_type": "code",
   "execution_count": 203,
   "metadata": {},
   "outputs": [
    {
     "data": {
      "text/html": [
       "<div>\n",
       "<style scoped>\n",
       "    .dataframe tbody tr th:only-of-type {\n",
       "        vertical-align: middle;\n",
       "    }\n",
       "\n",
       "    .dataframe tbody tr th {\n",
       "        vertical-align: top;\n",
       "    }\n",
       "\n",
       "    .dataframe thead th {\n",
       "        text-align: right;\n",
       "    }\n",
       "</style>\n",
       "<table border=\"1\" class=\"dataframe\">\n",
       "  <thead>\n",
       "    <tr style=\"text-align: right;\">\n",
       "      <th></th>\n",
       "      <th>Starting Median Salary</th>\n",
       "      <th>Mid-Career Median Salary</th>\n",
       "    </tr>\n",
       "  </thead>\n",
       "  <tbody>\n",
       "    <tr>\n",
       "      <th>count</th>\n",
       "      <td>268.000000</td>\n",
       "      <td>268.000000</td>\n",
       "    </tr>\n",
       "    <tr>\n",
       "      <th>mean</th>\n",
       "      <td>46043.656716</td>\n",
       "      <td>83944.402985</td>\n",
       "    </tr>\n",
       "    <tr>\n",
       "      <th>std</th>\n",
       "      <td>6411.734098</td>\n",
       "      <td>14361.799310</td>\n",
       "    </tr>\n",
       "    <tr>\n",
       "      <th>min</th>\n",
       "      <td>34800.000000</td>\n",
       "      <td>43900.000000</td>\n",
       "    </tr>\n",
       "    <tr>\n",
       "      <th>25%</th>\n",
       "      <td>42000.000000</td>\n",
       "      <td>73950.000000</td>\n",
       "    </tr>\n",
       "    <tr>\n",
       "      <th>50%</th>\n",
       "      <td>44700.000000</td>\n",
       "      <td>81650.000000</td>\n",
       "    </tr>\n",
       "    <tr>\n",
       "      <th>75%</th>\n",
       "      <td>48150.000000</td>\n",
       "      <td>92350.000000</td>\n",
       "    </tr>\n",
       "    <tr>\n",
       "      <th>max</th>\n",
       "      <td>75500.000000</td>\n",
       "      <td>134000.000000</td>\n",
       "    </tr>\n",
       "  </tbody>\n",
       "</table>\n",
       "</div>"
      ],
      "text/plain": [
       "       Starting Median Salary  Mid-Career Median Salary\n",
       "count              268.000000                268.000000\n",
       "mean             46043.656716              83944.402985\n",
       "std               6411.734098              14361.799310\n",
       "min              34800.000000              43900.000000\n",
       "25%              42000.000000              73950.000000\n",
       "50%              44700.000000              81650.000000\n",
       "75%              48150.000000              92350.000000\n",
       "max              75500.000000             134000.000000"
      ]
     },
     "execution_count": 203,
     "metadata": {},
     "output_type": "execute_result"
    }
   ],
   "source": [
    "# Start exploring the data\n",
    "df_3.describe()"
   ]
  },
  {
   "attachments": {},
   "cell_type": "markdown",
   "metadata": {},
   "source": [
    "VISUALIZATION"
   ]
  },
  {
   "attachments": {},
   "cell_type": "markdown",
   "metadata": {},
   "source": [
    "Using the count plot to the visualization of counts of observations in each categorical bin(Region and Schoool Type) using bars."
   ]
  },
  {
   "cell_type": "code",
   "execution_count": 204,
   "metadata": {},
   "outputs": [
    {
     "data": {
      "text/plain": [
       "<AxesSubplot:xlabel='School Type', ylabel='count'>"
      ]
     },
     "execution_count": 204,
     "metadata": {},
     "output_type": "execute_result"
    },
    {
     "data": {
      "image/png": "[encoded data removed]",
      "text/plain": [
       "<Figure size 1500x800 with 2 Axes>"
      ]
     },
     "metadata": {},
     "output_type": "display_data"
    }
   ],
   "source": [
    "# Countplots for Region and school type\n",
    "fig, ax=plt.subplots(nrows=1,ncols=2,figsize=(15,8))\n",
    "sns.countplot(x='Region',data=df_3, ax=ax[0])\n",
    "sns.countplot(x='School Type', data=df_3,ax=ax[1])"
   ]
  },
  {
   "attachments": {},
   "cell_type": "markdown",
   "metadata": {},
   "source": [
    "The above visualization of count plot shows, Midwestern, Northeastern and southern region are close in counts of schools. In terms of counts  the northeastern region has height count of school and California has the lowest count.\n",
    "\n",
    "<br>Similarly for count of school pertaining to school type shows that state universities( university managed by the public authorities of a particular US state) are much higher in number than other college type. The reputed IVY League colleges have comparitively smallest count. The Ivy League is an American collegiate athletic conference comprising eight private research universities in the Northeastern United States. The term Ivy League is typically used beyond the sports context to refer to the eight schools as a group of elite colleges with connotations of academic excellence, selectivity in admissions, has the lowest count for number of colleges.\n",
    "\n",
    "<br> Although, having lowest count IVY college are highly reputed in USA therefore they have significant impact in terms of college rating as well as Salaries in Northeastern region and therefore, a must to include in our data."
   ]
  },
  {
   "cell_type": "code",
   "execution_count": 205,
   "metadata": {},
   "outputs": [
    {
     "data": {
      "text/plain": [
       "<AxesSubplot:xlabel='School Type', ylabel='Mid-Career Median Salary'>"
      ]
     },
     "execution_count": 205,
     "metadata": {},
     "output_type": "execute_result"
    },
    {
     "data": {
      "image/png": "[encoded data removed]",
      "text/plain": [
       "<Figure size 1500x800 with 4 Axes>"
      ]
     },
     "metadata": {},
     "output_type": "display_data"
    }
   ],
   "source": [
    "#Categorical Plotting\n",
    "fig,ax=plt.subplots(nrows=2,ncols=2,figsize=(15,8))\n",
    "sns.boxplot(x='Region',y='Starting Median Salary',data=df_3,ax=ax[0,0])\n",
    "sns.boxplot(x='School Type',y='Starting Median Salary',data=df_3,ax=ax[0,1])\n",
    "sns.boxplot(x='Region',y='Mid-Career Median Salary',data=df_3,ax=ax[1,0])\n",
    "sns.boxplot(x='School Type',y='Mid-Career Median Salary',data=df_3,ax=ax[1,1])"
   ]
  },
  {
   "attachments": {},
   "cell_type": "markdown",
   "metadata": {},
   "source": [
    "Some general observations about BOX PLOTS for STARTING SALARIES AND MID-CAREER-MEDIAN SALARY: \n",
    "<br> \n",
    "<br> BY REGION:\n",
    "<br>\n",
    "<br>It is observed from the boxplot comparing salary by region wise that the median salary pattern for both starting and mid-career shows quite similar pattern \n",
    "<br> \n",
    "<br> In California (Blue): The starting median salary little more than $45,000 which is higher than the starting salary in other regions. The mid-career median salary is quite close to Northeastern region university where most of the IVY League universities resides.\n",
    "<br> \n",
    "<br> Northeastern Region (Green): The Northeastern region where most of IVY colleges are situated, have highest mid-career median salary. Therefore, shows promising future career progression with higher monetary benefits.\n",
    "<br> \n",
    "<br> Midwestern (Orange), Southern (Red) and Western (Purple): The Southern, Midwestern, Western starting median salary as well as mid-career median salary are quite close but lower than the colleges in California or Northeastern region.\n",
    "<br>\n",
    "<br>BY SCHOOL TYPE:\n",
    "<br>\n",
    "<br>IVY League colleges and engineering colleges have highest starting median salaries by school type, where:\n",
    "\n",
    "<br>IVY League(Orange): Ivy league colleges have highest starting median salary (close to $60,000) than any other school type. The mid-Career median salary for IVY League colleges are way more than any other type of colleges going more than $200,000 per annum.\n",
    "\n",
    "<br>Engineering colleges (Blue): Engineering have almost same starting median salary as IVY schools. The mid-career median salary for Engineering colleges graduates is less than $150,000.\n",
    "\n",
    "<br> IVY schools and Engineering schools have almost same median starting salary but there is significant difference in Mid-Career median salary.\n",
    "<br> When it comes to mid-career stage, the IVY colleges graduates are getting way more approx. $200,000, whereas the mid-career median salary for engineering college graduate is less than $150,000.\n",
    "\n",
    "<br>Liberal arts (Orange), Party (Red) and state (Purple): These school type have lowest staring median salary as compared to Engineering or IVY colleges with state universities graduate starting median salary is lowest. However, the Liberal art graduate are showing highest mid-career median salary among these three.\n",
    "<br>\n",
    "<br> All and all the IVY league colleges and Engineering colleges have highest starting and mid-career salaries.\n",
    "<br> In terms of region northeastern universities have highest starting and mid-career salaries.\n",
    "<br>\n",
    "<br>\n"
   ]
  },
  {
   "cell_type": "code",
   "execution_count": 206,
   "metadata": {},
   "outputs": [
    {
     "data": {
      "text/plain": [
       "<seaborn.axisgrid.PairGrid at 0x25b3d09ea30>"
      ]
     },
     "execution_count": 206,
     "metadata": {},
     "output_type": "execute_result"
    },
    {
     "data": {
      "image/png": "[encoded data removed]",
      "text/plain": [
       "<Figure size 500x500 with 6 Axes>"
      ]
     },
     "metadata": {},
     "output_type": "display_data"
    }
   ],
   "source": [
    "# Visual correlation and distributions\n",
    "sns.pairplot(df_3)"
   ]
  },
  {
   "cell_type": "markdown",
   "metadata": {},
   "source": [
    "By looking at the pairplot, there are no big outliers that we would filter that could skew the data"
   ]
  },
  {
   "cell_type": "code",
   "execution_count": 207,
   "metadata": {},
   "outputs": [
    {
     "data": {
      "text/html": [
       "<div>\n",
       "<style scoped>\n",
       "    .dataframe tbody tr th:only-of-type {\n",
       "        vertical-align: middle;\n",
       "    }\n",
       "\n",
       "    .dataframe tbody tr th {\n",
       "        vertical-align: top;\n",
       "    }\n",
       "\n",
       "    .dataframe thead th {\n",
       "        text-align: right;\n",
       "    }\n",
       "</style>\n",
       "<table border=\"1\" class=\"dataframe\">\n",
       "  <thead>\n",
       "    <tr style=\"text-align: right;\">\n",
       "      <th></th>\n",
       "      <th>Starting Median Salary</th>\n",
       "      <th>Mid-Career Median Salary</th>\n",
       "      <th>Region_California</th>\n",
       "      <th>Region_Midwestern</th>\n",
       "      <th>Region_Northeastern</th>\n",
       "      <th>Region_Southern</th>\n",
       "      <th>Region_Western</th>\n",
       "      <th>School Type_Engineering</th>\n",
       "      <th>School Type_Ivy League</th>\n",
       "      <th>School Type_Liberal Arts</th>\n",
       "      <th>School Type_Party</th>\n",
       "      <th>School Type_State</th>\n",
       "    </tr>\n",
       "  </thead>\n",
       "  <tbody>\n",
       "    <tr>\n",
       "      <th>0</th>\n",
       "      <td>75500.0</td>\n",
       "      <td>123000.0</td>\n",
       "      <td>1</td>\n",
       "      <td>0</td>\n",
       "      <td>0</td>\n",
       "      <td>0</td>\n",
       "      <td>0</td>\n",
       "      <td>1</td>\n",
       "      <td>0</td>\n",
       "      <td>0</td>\n",
       "      <td>0</td>\n",
       "      <td>0</td>\n",
       "    </tr>\n",
       "    <tr>\n",
       "      <th>1</th>\n",
       "      <td>71800.0</td>\n",
       "      <td>122000.0</td>\n",
       "      <td>1</td>\n",
       "      <td>0</td>\n",
       "      <td>0</td>\n",
       "      <td>0</td>\n",
       "      <td>0</td>\n",
       "      <td>1</td>\n",
       "      <td>0</td>\n",
       "      <td>0</td>\n",
       "      <td>0</td>\n",
       "      <td>0</td>\n",
       "    </tr>\n",
       "    <tr>\n",
       "      <th>2</th>\n",
       "      <td>59900.0</td>\n",
       "      <td>112000.0</td>\n",
       "      <td>1</td>\n",
       "      <td>0</td>\n",
       "      <td>0</td>\n",
       "      <td>0</td>\n",
       "      <td>0</td>\n",
       "      <td>0</td>\n",
       "      <td>0</td>\n",
       "      <td>0</td>\n",
       "      <td>0</td>\n",
       "      <td>1</td>\n",
       "    </tr>\n",
       "    <tr>\n",
       "      <th>3</th>\n",
       "      <td>51900.0</td>\n",
       "      <td>105000.0</td>\n",
       "      <td>1</td>\n",
       "      <td>0</td>\n",
       "      <td>0</td>\n",
       "      <td>0</td>\n",
       "      <td>0</td>\n",
       "      <td>0</td>\n",
       "      <td>0</td>\n",
       "      <td>1</td>\n",
       "      <td>0</td>\n",
       "      <td>0</td>\n",
       "    </tr>\n",
       "    <tr>\n",
       "      <th>4</th>\n",
       "      <td>57200.0</td>\n",
       "      <td>101000.0</td>\n",
       "      <td>1</td>\n",
       "      <td>0</td>\n",
       "      <td>0</td>\n",
       "      <td>0</td>\n",
       "      <td>0</td>\n",
       "      <td>0</td>\n",
       "      <td>0</td>\n",
       "      <td>0</td>\n",
       "      <td>0</td>\n",
       "      <td>1</td>\n",
       "    </tr>\n",
       "  </tbody>\n",
       "</table>\n",
       "</div>"
      ],
      "text/plain": [
       "   Starting Median Salary  Mid-Career Median Salary  Region_California  \\\n",
       "0                 75500.0                  123000.0                  1   \n",
       "1                 71800.0                  122000.0                  1   \n",
       "2                 59900.0                  112000.0                  1   \n",
       "3                 51900.0                  105000.0                  1   \n",
       "4                 57200.0                  101000.0                  1   \n",
       "\n",
       "   Region_Midwestern  Region_Northeastern  Region_Southern  Region_Western  \\\n",
       "0                  0                    0                0               0   \n",
       "1                  0                    0                0               0   \n",
       "2                  0                    0                0               0   \n",
       "3                  0                    0                0               0   \n",
       "4                  0                    0                0               0   \n",
       "\n",
       "   School Type_Engineering  School Type_Ivy League  School Type_Liberal Arts  \\\n",
       "0                        1                       0                         0   \n",
       "1                        1                       0                         0   \n",
       "2                        0                       0                         0   \n",
       "3                        0                       0                         1   \n",
       "4                        0                       0                         0   \n",
       "\n",
       "   School Type_Party  School Type_State  \n",
       "0                  0                  0  \n",
       "1                  0                  0  \n",
       "2                  0                  1  \n",
       "3                  0                  0  \n",
       "4                  0                  1  "
      ]
     },
     "execution_count": 207,
     "metadata": {},
     "output_type": "execute_result"
    }
   ],
   "source": [
    "#One hot Coding:\n",
    "df2 = df_3.drop(columns={'School Name'})\n",
    "df3 = pd.get_dummies(df2)\n",
    "df3.head()"
   ]
  },
  {
   "attachments": {},
   "cell_type": "markdown",
   "metadata": {},
   "source": [
    "Instead of each categorical column of Region and School having several possible values, now each of those values is a column, and each row is true (or 1) in one of the columns and a false (or 0) for the others. "
   ]
  },
  {
   "cell_type": "code",
   "execution_count": 208,
   "metadata": {},
   "outputs": [
    {
     "data": {
      "text/plain": [
       "0    241\n",
       "1     27\n",
       "Name: Region_California, dtype: int64"
      ]
     },
     "execution_count": 208,
     "metadata": {},
     "output_type": "execute_result"
    }
   ],
   "source": [
    "df3[\"Region_California\"].value_counts()"
   ]
  },
  {
   "cell_type": "markdown",
   "metadata": {},
   "source": [
    "#### Predictions for Starting Median Salary by using linear regression"
   ]
  },
  {
   "cell_type": "code",
   "execution_count": 209,
   "metadata": {},
   "outputs": [
    {
     "data": {
      "text/html": [
       "<div>\n",
       "<style scoped>\n",
       "    .dataframe tbody tr th:only-of-type {\n",
       "        vertical-align: middle;\n",
       "    }\n",
       "\n",
       "    .dataframe tbody tr th {\n",
       "        vertical-align: top;\n",
       "    }\n",
       "\n",
       "    .dataframe thead th {\n",
       "        text-align: right;\n",
       "    }\n",
       "</style>\n",
       "<table border=\"1\" class=\"dataframe\">\n",
       "  <thead>\n",
       "    <tr style=\"text-align: right;\">\n",
       "      <th></th>\n",
       "      <th>Region_California</th>\n",
       "      <th>Region_Midwestern</th>\n",
       "      <th>Region_Northeastern</th>\n",
       "      <th>Region_Southern</th>\n",
       "      <th>Region_Western</th>\n",
       "      <th>School Type_Engineering</th>\n",
       "      <th>School Type_Ivy League</th>\n",
       "      <th>School Type_Liberal Arts</th>\n",
       "      <th>School Type_Party</th>\n",
       "      <th>School Type_State</th>\n",
       "    </tr>\n",
       "  </thead>\n",
       "  <tbody>\n",
       "    <tr>\n",
       "      <th>0</th>\n",
       "      <td>1</td>\n",
       "      <td>0</td>\n",
       "      <td>0</td>\n",
       "      <td>0</td>\n",
       "      <td>0</td>\n",
       "      <td>1</td>\n",
       "      <td>0</td>\n",
       "      <td>0</td>\n",
       "      <td>0</td>\n",
       "      <td>0</td>\n",
       "    </tr>\n",
       "    <tr>\n",
       "      <th>1</th>\n",
       "      <td>1</td>\n",
       "      <td>0</td>\n",
       "      <td>0</td>\n",
       "      <td>0</td>\n",
       "      <td>0</td>\n",
       "      <td>1</td>\n",
       "      <td>0</td>\n",
       "      <td>0</td>\n",
       "      <td>0</td>\n",
       "      <td>0</td>\n",
       "    </tr>\n",
       "    <tr>\n",
       "      <th>2</th>\n",
       "      <td>1</td>\n",
       "      <td>0</td>\n",
       "      <td>0</td>\n",
       "      <td>0</td>\n",
       "      <td>0</td>\n",
       "      <td>0</td>\n",
       "      <td>0</td>\n",
       "      <td>0</td>\n",
       "      <td>0</td>\n",
       "      <td>1</td>\n",
       "    </tr>\n",
       "    <tr>\n",
       "      <th>3</th>\n",
       "      <td>1</td>\n",
       "      <td>0</td>\n",
       "      <td>0</td>\n",
       "      <td>0</td>\n",
       "      <td>0</td>\n",
       "      <td>0</td>\n",
       "      <td>0</td>\n",
       "      <td>1</td>\n",
       "      <td>0</td>\n",
       "      <td>0</td>\n",
       "    </tr>\n",
       "    <tr>\n",
       "      <th>4</th>\n",
       "      <td>1</td>\n",
       "      <td>0</td>\n",
       "      <td>0</td>\n",
       "      <td>0</td>\n",
       "      <td>0</td>\n",
       "      <td>0</td>\n",
       "      <td>0</td>\n",
       "      <td>0</td>\n",
       "      <td>0</td>\n",
       "      <td>1</td>\n",
       "    </tr>\n",
       "  </tbody>\n",
       "</table>\n",
       "</div>"
      ],
      "text/plain": [
       "   Region_California  Region_Midwestern  Region_Northeastern  Region_Southern  \\\n",
       "0                  1                  0                    0                0   \n",
       "1                  1                  0                    0                0   \n",
       "2                  1                  0                    0                0   \n",
       "3                  1                  0                    0                0   \n",
       "4                  1                  0                    0                0   \n",
       "\n",
       "   Region_Western  School Type_Engineering  School Type_Ivy League  \\\n",
       "0               0                        1                       0   \n",
       "1               0                        1                       0   \n",
       "2               0                        0                       0   \n",
       "3               0                        0                       0   \n",
       "4               0                        0                       0   \n",
       "\n",
       "   School Type_Liberal Arts  School Type_Party  School Type_State  \n",
       "0                         0                  0                  0  \n",
       "1                         0                  0                  0  \n",
       "2                         0                  0                  1  \n",
       "3                         1                  0                  0  \n",
       "4                         0                  0                  1  "
      ]
     },
     "execution_count": 209,
     "metadata": {},
     "output_type": "execute_result"
    }
   ],
   "source": [
    "y = np.array(df3[\"Starting Median Salary\"]).reshape(-1,1)\n",
    "y.shape\n",
    "#Get a new df with only the features we'll use\n",
    "df_ = df3.drop(columns={\"Starting Median Salary\",\"Mid-Career Median Salary\"})\n",
    "df_.head()"
   ]
  },
  {
   "cell_type": "code",
   "execution_count": 210,
   "metadata": {},
   "outputs": [
    {
     "data": {
      "text/plain": [
       "(268, 10)"
      ]
     },
     "execution_count": 210,
     "metadata": {},
     "output_type": "execute_result"
    }
   ],
   "source": [
    "#Make that df into an array. \n",
    "x = np.array(df_)\n",
    "x.shape"
   ]
  },
  {
   "cell_type": "code",
   "execution_count": 211,
   "metadata": {},
   "outputs": [
    {
     "name": "stdout",
     "output_type": "stream",
     "text": [
      "X shape (268, 10)\n",
      "Y shape (268, 1)\n"
     ]
    }
   ],
   "source": [
    "#shapes\n",
    "print(\"X shape\", x.shape)\n",
    "print(\"Y shape\", y.shape)"
   ]
  },
  {
   "cell_type": "code",
   "execution_count": 212,
   "metadata": {},
   "outputs": [],
   "source": [
    "#Setup\n",
    "from sklearn.linear_model import LinearRegression\n",
    "from sklearn import feature_selection\n",
    "from sklearn.model_selection import train_test_split"
   ]
  },
  {
   "cell_type": "code",
   "execution_count": 213,
   "metadata": {},
   "outputs": [],
   "source": [
    "#Split data\n",
    "xTrain, xTest, yTrain, yTest = train_test_split(x,y,test_size=.3)\n",
    "#Generate model \n",
    "model = LinearRegression().fit(xTrain,yTrain)"
   ]
  },
  {
   "cell_type": "code",
   "execution_count": 214,
   "metadata": {},
   "outputs": [
    {
     "name": "stdout",
     "output_type": "stream",
     "text": [
      "R-squared: 0.46517531783710186\n"
     ]
    }
   ],
   "source": [
    "#Get some info on our new regression model\n",
    "r_sq = model.score(xTest, yTest)\n",
    "print('R-squared:', r_sq)"
   ]
  },
  {
   "cell_type": "code",
   "execution_count": 215,
   "metadata": {},
   "outputs": [
    {
     "name": "stdout",
     "output_type": "stream",
     "text": [
      "Intercept: 51054.948803067324\n",
      "Coefs: [ 3656.86150857 -1183.27047309   -73.82942281 -1065.6524607\n",
      " -1334.10915196  7202.91113538 10658.88061974 -5109.95007472\n",
      " -5707.35794372 -7044.48373668]\n"
     ]
    }
   ],
   "source": [
    "#Our coefficent/slope is now an array of values - one per X. \n",
    "#Visualizing the regression would be a 14D space, where these are the slopes in each dimension. \n",
    "print('Intercept:', model.intercept_[0])\n",
    "print('Coefs:', model.coef_[0])"
   ]
  },
  {
   "cell_type": "code",
   "execution_count": 216,
   "metadata": {},
   "outputs": [
    {
     "data": {
      "text/plain": [
       "5194.962145666821"
      ]
     },
     "execution_count": 216,
     "metadata": {},
     "output_type": "execute_result"
    }
   ],
   "source": [
    "#Get RMSE\n",
    "tmp = model.predict(xTest)\n",
    "mean_squared_error(tmp, yTest, squared=False)"
   ]
  },
  {
   "cell_type": "code",
   "execution_count": 217,
   "metadata": {},
   "outputs": [
    {
     "data": {
      "text/html": [
       "<div>\n",
       "<style scoped>\n",
       "    .dataframe tbody tr th:only-of-type {\n",
       "        vertical-align: middle;\n",
       "    }\n",
       "\n",
       "    .dataframe tbody tr th {\n",
       "        vertical-align: top;\n",
       "    }\n",
       "\n",
       "    .dataframe thead th {\n",
       "        text-align: right;\n",
       "    }\n",
       "</style>\n",
       "<table border=\"1\" class=\"dataframe\">\n",
       "  <thead>\n",
       "    <tr style=\"text-align: right;\">\n",
       "      <th></th>\n",
       "      <th>Y values</th>\n",
       "      <th>Predictions</th>\n",
       "      <th>Residual</th>\n",
       "    </tr>\n",
       "  </thead>\n",
       "  <tbody>\n",
       "    <tr>\n",
       "      <th>0</th>\n",
       "      <td>37300.0</td>\n",
       "      <td>42676.355914</td>\n",
       "      <td>-5376.355914</td>\n",
       "    </tr>\n",
       "    <tr>\n",
       "      <th>1</th>\n",
       "      <td>43600.0</td>\n",
       "      <td>42827.194593</td>\n",
       "      <td>772.805407</td>\n",
       "    </tr>\n",
       "    <tr>\n",
       "      <th>2</th>\n",
       "      <td>37800.0</td>\n",
       "      <td>43936.635644</td>\n",
       "      <td>-6136.635644</td>\n",
       "    </tr>\n",
       "    <tr>\n",
       "      <th>3</th>\n",
       "      <td>49900.0</td>\n",
       "      <td>45273.761437</td>\n",
       "      <td>4626.238563</td>\n",
       "    </tr>\n",
       "    <tr>\n",
       "      <th>4</th>\n",
       "      <td>40400.0</td>\n",
       "      <td>42944.812606</td>\n",
       "      <td>-2544.812606</td>\n",
       "    </tr>\n",
       "  </tbody>\n",
       "</table>\n",
       "</div>"
      ],
      "text/plain": [
       "   Y values   Predictions     Residual\n",
       "0   37300.0  42676.355914 -5376.355914\n",
       "1   43600.0  42827.194593   772.805407\n",
       "2   37800.0  43936.635644 -6136.635644\n",
       "3   49900.0  45273.761437  4626.238563\n",
       "4   40400.0  42944.812606 -2544.812606"
      ]
     },
     "execution_count": 217,
     "metadata": {},
     "output_type": "execute_result"
    }
   ],
   "source": [
    "#Get Residuals and picture them in a DF for easy reading. \n",
    "tmp1 = pd.DataFrame(yTest, columns={\"Y values\"})\n",
    "tmp2 = pd.DataFrame(tmp, columns={\"Predictions\"})\n",
    "tmp3 = pd.DataFrame((yTest-tmp), columns={\"Residual\"})\n",
    "resFrame = pd.concat([tmp1,tmp2,tmp3], axis=1)\n",
    "resFrame.head()"
   ]
  },
  {
   "cell_type": "code",
   "execution_count": 218,
   "metadata": {},
   "outputs": [],
   "source": [
    "#Statsmodels.\n",
    "import statsmodels.api as sm"
   ]
  },
  {
   "cell_type": "code",
   "execution_count": 219,
   "metadata": {},
   "outputs": [
    {
     "name": "stdout",
     "output_type": "stream",
     "text": [
      "                            OLS Regression Results                            \n",
      "==============================================================================\n",
      "Dep. Variable:                      y   R-squared:                       0.614\n",
      "Model:                            OLS   Adj. R-squared:                  0.596\n",
      "Method:                 Least Squares   F-statistic:                     35.36\n",
      "Date:                Mon, 12 Dec 2022   Prob (F-statistic):           4.99e-33\n",
      "Time:                        19:48:31   Log-Likelihood:                -1803.4\n",
      "No. Observations:                 187   AIC:                             3625.\n",
      "Df Residuals:                     178   BIC:                             3654.\n",
      "Df Model:                           8                                         \n",
      "Covariance Type:            nonrobust                                         \n",
      "==============================================================================\n",
      "                 coef    std err          t      P>|t|      [0.025      0.975]\n",
      "------------------------------------------------------------------------------\n",
      "const       3.647e+04    370.299     98.482      0.000    3.57e+04    3.72e+04\n",
      "x1          1.095e+04    784.315     13.962      0.000    9402.674    1.25e+04\n",
      "x2          6110.2936    548.354     11.143      0.000    5028.183    7192.404\n",
      "x3          7219.7347    542.522     13.308      0.000    6149.133    8290.337\n",
      "x4          6227.9117    546.268     11.401      0.000    5149.916    7305.907\n",
      "x5          5959.4550    696.967      8.551      0.000    4584.074    7334.836\n",
      "x6           1.45e+04    952.686     15.216      0.000    1.26e+04    1.64e+04\n",
      "x7          1.795e+04   1500.833     11.962      0.000     1.5e+04    2.09e+04\n",
      "x8          2183.6140    657.868      3.319      0.001     885.391    3481.838\n",
      "x9          1586.2062    951.759      1.667      0.097    -291.976    3464.389\n",
      "x10          249.0804    527.868      0.472      0.638    -792.604    1290.764\n",
      "==============================================================================\n",
      "Omnibus:                        1.711   Durbin-Watson:                   1.848\n",
      "Prob(Omnibus):                  0.425   Jarque-Bera (JB):                1.412\n",
      "Skew:                           0.204   Prob(JB):                        0.494\n",
      "Kurtosis:                       3.122   Cond. No.                     1.70e+16\n",
      "==============================================================================\n",
      "\n",
      "Notes:\n",
      "[1] Standard Errors assume that the covariance matrix of the errors is correctly specified.\n",
      "[2] The smallest eigenvalue is 1.11e-30. This might indicate that there are\n",
      "strong multicollinearity problems or that the design matrix is singular.\n"
     ]
    }
   ],
   "source": [
    "#Fit the model. \n",
    "X2 = sm.add_constant(xTrain)\n",
    "est = sm.OLS(yTrain, X2)\n",
    "est2 = est.fit()\n",
    "print(est2.summary())"
   ]
  },
  {
   "cell_type": "markdown",
   "metadata": {},
   "source": [
    "#### Predictions for Mid-Career Median Salary by using the linear regression"
   ]
  },
  {
   "cell_type": "code",
   "execution_count": 220,
   "metadata": {},
   "outputs": [
    {
     "data": {
      "text/plain": [
       "(268, 1)"
      ]
     },
     "execution_count": 220,
     "metadata": {},
     "output_type": "execute_result"
    }
   ],
   "source": [
    "y1 = np.array(df3[\"Mid-Career Median Salary\"]).reshape(-1,1)\n",
    "y1.shape"
   ]
  },
  {
   "cell_type": "code",
   "execution_count": 221,
   "metadata": {},
   "outputs": [],
   "source": [
    "#Split data\n",
    "xTrain1, xTest1, yTrain1, yTest1 = train_test_split(x,y1,test_size=.3)\n",
    "#Generate model \n",
    "model1 = LinearRegression().fit(xTrain1,yTrain1)"
   ]
  },
  {
   "cell_type": "code",
   "execution_count": 222,
   "metadata": {},
   "outputs": [
    {
     "name": "stdout",
     "output_type": "stream",
     "text": [
      "R-squared: 0.37825926251059194\n"
     ]
    }
   ],
   "source": [
    "#Get some info on our new regression model\n",
    "r_sq = model1.score(xTest1, yTest1)\n",
    "print('R-squared:', r_sq)"
   ]
  },
  {
   "cell_type": "code",
   "execution_count": 223,
   "metadata": {},
   "outputs": [
    {
     "name": "stdout",
     "output_type": "stream",
     "text": [
      "Intercept: 94809.68555283907\n",
      "Coefs: [  9389.9038781   -4828.13235931   2657.4152447   -1912.88867134\n",
      "  -5306.29809215   7388.05533241  22657.89920246  -4465.11280348\n",
      "  -9934.73712659 -15646.10460479]\n"
     ]
    }
   ],
   "source": [
    "#Our coefficent/slope is now an array of values - one per X. \n",
    "#Visualizing the regression would be a 14D space, where these are the slopes in each dimension. \n",
    "print('Intercept:', model1.intercept_[0])\n",
    "print('Coefs:', model1.coef_[0])"
   ]
  },
  {
   "cell_type": "code",
   "execution_count": 224,
   "metadata": {},
   "outputs": [
    {
     "data": {
      "text/plain": [
       "9685.65875999578"
      ]
     },
     "execution_count": 224,
     "metadata": {},
     "output_type": "execute_result"
    }
   ],
   "source": [
    "#Get RMSE\n",
    "tmp1 = model1.predict(xTest1)\n",
    "mean_squared_error(tmp1, yTest1, squared=False)"
   ]
  },
  {
   "cell_type": "code",
   "execution_count": 225,
   "metadata": {},
   "outputs": [
    {
     "data": {
      "text/html": [
       "<div>\n",
       "<style scoped>\n",
       "    .dataframe tbody tr th:only-of-type {\n",
       "        vertical-align: middle;\n",
       "    }\n",
       "\n",
       "    .dataframe tbody tr th {\n",
       "        vertical-align: top;\n",
       "    }\n",
       "\n",
       "    .dataframe thead th {\n",
       "        text-align: right;\n",
       "    }\n",
       "</style>\n",
       "<table border=\"1\" class=\"dataframe\">\n",
       "  <thead>\n",
       "    <tr style=\"text-align: right;\">\n",
       "      <th></th>\n",
       "      <th>Y values</th>\n",
       "      <th>Predictions</th>\n",
       "      <th>Residual</th>\n",
       "    </tr>\n",
       "  </thead>\n",
       "  <tbody>\n",
       "    <tr>\n",
       "      <th>0</th>\n",
       "      <td>80900.0</td>\n",
       "      <td>74335.448589</td>\n",
       "      <td>6564.551411</td>\n",
       "    </tr>\n",
       "    <tr>\n",
       "      <th>1</th>\n",
       "      <td>68400.0</td>\n",
       "      <td>77250.692277</td>\n",
       "      <td>-8850.692277</td>\n",
       "    </tr>\n",
       "    <tr>\n",
       "      <th>2</th>\n",
       "      <td>78500.0</td>\n",
       "      <td>74335.448589</td>\n",
       "      <td>4164.551411</td>\n",
       "    </tr>\n",
       "    <tr>\n",
       "      <th>3</th>\n",
       "      <td>85700.0</td>\n",
       "      <td>87532.363671</td>\n",
       "      <td>-1832.363671</td>\n",
       "    </tr>\n",
       "    <tr>\n",
       "      <th>4</th>\n",
       "      <td>85200.0</td>\n",
       "      <td>93001.987994</td>\n",
       "      <td>-7801.987994</td>\n",
       "    </tr>\n",
       "  </tbody>\n",
       "</table>\n",
       "</div>"
      ],
      "text/plain": [
       "   Y values   Predictions     Residual\n",
       "0   80900.0  74335.448589  6564.551411\n",
       "1   68400.0  77250.692277 -8850.692277\n",
       "2   78500.0  74335.448589  4164.551411\n",
       "3   85700.0  87532.363671 -1832.363671\n",
       "4   85200.0  93001.987994 -7801.987994"
      ]
     },
     "execution_count": 225,
     "metadata": {},
     "output_type": "execute_result"
    }
   ],
   "source": [
    "#Get Residuals and picture them in a DF for easy reading. \n",
    "tmp1m = pd.DataFrame(yTest1, columns={\"Y values\"})\n",
    "tmp2m = pd.DataFrame(tmp1, columns={\"Predictions\"})\n",
    "tmp3m = pd.DataFrame((yTest1-tmp1), columns={\"Residual\"})\n",
    "resFrame1 = pd.concat([tmp1m,tmp2m,tmp3m], axis=1)\n",
    "resFrame1.head()"
   ]
  },
  {
   "cell_type": "code",
   "execution_count": 226,
   "metadata": {},
   "outputs": [
    {
     "name": "stdout",
     "output_type": "stream",
     "text": [
      "                            OLS Regression Results                            \n",
      "==============================================================================\n",
      "Dep. Variable:                      y   R-squared:                       0.049\n",
      "Model:                            OLS   Adj. R-squared:                  0.006\n",
      "Method:                 Least Squares   F-statistic:                     1.151\n",
      "Date:                Mon, 12 Dec 2022   Prob (F-statistic):              0.331\n",
      "Time:                        19:49:42   Log-Likelihood:                -2060.3\n",
      "No. Observations:                 187   AIC:                             4139.\n",
      "Df Residuals:                     178   BIC:                             4168.\n",
      "Df Model:                           8                                         \n",
      "Covariance Type:            nonrobust                                         \n",
      "==============================================================================\n",
      "                 coef    std err          t      P>|t|      [0.025      0.975]\n",
      "------------------------------------------------------------------------------\n",
      "const         6.1e+04   1463.002     41.692      0.000    5.81e+04    6.39e+04\n",
      "x1          7538.1605   3098.719      2.433      0.016    1423.208    1.37e+04\n",
      "x2          9269.1408   2166.470      4.278      0.000    4993.871    1.35e+04\n",
      "x3          1.434e+04   2143.429      6.692      0.000    1.01e+04    1.86e+04\n",
      "x4          1.486e+04   2158.231      6.886      0.000    1.06e+04    1.91e+04\n",
      "x5          1.498e+04   2753.620      5.441      0.000    9548.495    2.04e+04\n",
      "x6          1.204e+04   3763.931      3.199      0.002    4612.976    1.95e+04\n",
      "x7            1.7e+04   5929.583      2.867      0.005    5298.892    2.87e+04\n",
      "x8          8430.7396   2599.145      3.244      0.001    3301.637    1.36e+04\n",
      "x9          1.291e+04   3760.267      3.434      0.001    5492.045    2.03e+04\n",
      "x10         1.061e+04   2085.533      5.088      0.000    6495.875    1.47e+04\n",
      "==============================================================================\n",
      "Omnibus:                       18.826   Durbin-Watson:                   2.089\n",
      "Prob(Omnibus):                  0.000   Jarque-Bera (JB):               21.970\n",
      "Skew:                           0.723   Prob(JB):                     1.70e-05\n",
      "Kurtosis:                       3.853   Cond. No.                     1.70e+16\n",
      "==============================================================================\n",
      "\n",
      "Notes:\n",
      "[1] Standard Errors assume that the covariance matrix of the errors is correctly specified.\n",
      "[2] The smallest eigenvalue is 1.11e-30. This might indicate that there are\n",
      "strong multicollinearity problems or that the design matrix is singular.\n"
     ]
    }
   ],
   "source": [
    "#Fit the model. \n",
    "X2m = sm.add_constant(xTrain1)\n",
    "estm = sm.OLS(yTrain1, X2)\n",
    "est2m = estm.fit()\n",
    "print(est2m.summary())"
   ]
  },
  {
   "cell_type": "markdown",
   "metadata": {},
   "source": [
    "# Conclusions for Starting median salary\n",
    "\n",
    "Based on the regression results, it shows that the different region in United States has higher significant impact on starting median salary since their p-values equal to 0. For school type such as Liberal Arts, Party, and State are not significantly affect our data. \n",
    "\n",
    "# Conclusion for Mid career median salary\n",
    "\n",
    "Based on the regression results, it shows that the different region in United States except California has higher significant impact on Mid career median salary since their p-values equal to 0. For school type, except state university, they are not significantly affect our data. "
   ]
  }
 ],
 "metadata": {
  "kernelspec": {
   "display_name": "Python 3.8.5 ('base')",
   "language": "python",
   "name": "python3"
  },
  "language_info": {
   "codemirror_mode": {
    "name": "ipython",
    "version": 3
   },
   "file_extension": ".py",
   "mimetype": "text/x-python",
   "name": "python",
   "nbconvert_exporter": "python",
   "pygments_lexer": "ipython3",
   "version": "3.8.5"
  },
  "orig_nbformat": 4,
  "vscode": {
   "interpreter": {
    "hash": "6c73b629626b7eb229adde691ec5328deb338baef59729ec19d8000960810818"
   }
  }
 },
 "nbformat": 4,
 "nbformat_minor": 2
}
